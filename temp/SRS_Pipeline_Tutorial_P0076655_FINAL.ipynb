{
 "cells": [
  {
   "cell_type": "markdown",
   "id": "bdc270c8",
   "metadata": {},
   "source": [
    "# 🧪 Tutorial: Simulating Structural Drug Resistance Using Public Cancer Data (Updated)"
   ]
  },
  {
   "cell_type": "markdown",
   "id": "e03c3ab8",
   "metadata": {},
   "source": [
    "## 🎯 Goal\n",
    "Use real-world public mutation datasets (e.g., MSK-CHORD, TCGA) to:\n",
    "- Model mutant protein structures (e.g., EGFR)\n",
    "- Dock FDA-approved drugs\n",
    "- Score drug-target binding affinities\n",
    "- Identify early resistance flags"
   ]
  },
  {
   "cell_type": "markdown",
   "id": "abe72724",
   "metadata": {},
   "source": [
    "\n",
    "## 🗂️ Step 1A: Download and Parse Mutation Data for P-0076655\n",
    "\n",
    "The file you downloaded from cBioPortal (MSK-CHORD, 2024) is a TSV file with columns such as `Gene`, `Protein Change`, `Sample ID`.\n",
    "\n",
    "You can extract EGFR mutations like this:\n",
    "\n",
    "\n"
   ]
  },
  {
   "cell_type": "code",
   "execution_count": 9,
   "id": "b99a7f94",
   "metadata": {},
   "outputs": [
    {
     "name": "stdout",
     "output_type": "stream",
     "text": [
      "{'gene': 'EGFR', 'mutations': ['L858R', 'T790M']}\n"
     ]
    }
   ],
   "source": [
    "import json\n",
    "\n",
    "import pandas as pd\n",
    "\n",
    "# Load the downloaded mutation file\n",
    "df = pd.read_csv(\"data/input/P0076655.tsv\", sep=\"\\t\")  # update path if needed\n",
    "\n",
    "# Filter for relevant EGFR mutations from patient P-0076655\n",
    "mutations = (\n",
    "    df[\n",
    "        (df[\"Sample ID\"].str.contains(\"P-0076655\"))\n",
    "        & (df[\"Gene\"] == \"EGFR\")\n",
    "        & (df[\"Protein Change\"].notna())\n",
    "    ][\"Protein Change\"]\n",
    "    .unique()\n",
    "    .tolist()\n",
    ")\n",
    "\n",
    "# Save to JSON\n",
    "mutation_data = {\"gene\": \"EGFR\", \"mutations\": mutations}\n",
    "with open(\"work/mutations.json\", \"w\") as f:\n",
    "    json.dump(mutation_data, f, indent=2)\n",
    "\n",
    "print(mutation_data)"
   ]
  },
  {
   "cell_type": "markdown",
   "id": "90ea5f16",
   "metadata": {},
   "source": [
    "\n",
    "This will create:\n",
    "```json\n",
    "{\n",
    "  \"gene\": \"EGFR\",\n",
    "  \"mutations\": [\"L858R\", \"T790M\"]\n",
    "}\n",
    "```"
   ]
  },
  {
   "cell_type": "code",
   "execution_count": null,
   "id": "7547a9cc",
   "metadata": {},
   "outputs": [],
   "source": [
    "# Or Call the script directly\n",
    "!python scripts/parse_mutations.py data/input/P0076655.tsv > work/mutations.json"
   ]
  },
  {
   "cell_type": "markdown",
   "id": "9de13b8e",
   "metadata": {},
   "source": [
    "## Download the EGFR FASTA"
   ]
  },
  {
   "cell_type": "code",
   "execution_count": 6,
   "id": "7e41a264",
   "metadata": {},
   "outputs": [
    {
     "name": "stderr",
     "output_type": "stream",
     "text": [
      "--2025-05-04 14:57:23--  https://www.uniprot.org/uniprot/P00533.fasta\n",
      "Resolving www.uniprot.org (www.uniprot.org)... 193.62.193.81\n",
      "Connecting to www.uniprot.org (www.uniprot.org)|193.62.193.81|:443... connected.\n",
      "HTTP request sent, awaiting response... 301 Moved Permanently\n",
      "Location: https://rest.uniprot.org/uniprot/P00533.fasta [following]\n",
      "--2025-05-04 14:57:23--  https://rest.uniprot.org/uniprot/P00533.fasta\n",
      "Resolving rest.uniprot.org (rest.uniprot.org)... 193.62.193.81\n",
      "Connecting to rest.uniprot.org (rest.uniprot.org)|193.62.193.81|:443... connected.\n",
      "HTTP request sent, awaiting response... "
     ]
    },
    {
     "name": "stdout",
     "output_type": "stream",
     "text": [
      "✅ EGFR wild-type FASTA downloaded successfully.\n"
     ]
    },
    {
     "name": "stderr",
     "output_type": "stream",
     "text": [
      "301 Moved Permanently\n",
      "Location: https://rest.uniprot.org/uniprotkb/P00533.fasta [following]\n",
      "--2025-05-04 14:57:24--  https://rest.uniprot.org/uniprotkb/P00533.fasta\n",
      "Reusing existing connection to rest.uniprot.org:443.\n",
      "HTTP request sent, awaiting response... 200 OK\n",
      "Length: 1328 (1.3K) [text/plain]\n",
      "Saving to: ‘data/input/egfr_wildtype.fasta’\n",
      "\n",
      "     0K .                                                     100%  106M=0s\n",
      "\n",
      "2025-05-04 14:57:24 (106 MB/s) - ‘data/input/egfr_wildtype.fasta’ saved [1328/1328]\n",
      "\n"
     ]
    }
   ],
   "source": [
    "import os\n",
    "\n",
    "# Download the EGFR FASTA file from UniProt using wget\n",
    "fasta_url = \"https://www.uniprot.org/uniprot/P00533.fasta\"\n",
    "output_path = \"data/input/egfr_wildtype.fasta\"\n",
    "\n",
    "# Use wget to download the FASTA file\n",
    "exit_code = os.system(f\"wget -O {output_path} {fasta_url}\")\n",
    "\n",
    "# Check if download was successful\n",
    "result_msg = (\n",
    "    \"✅ EGFR wild-type FASTA downloaded successfully.\" if exit_code == 0 else \"❌ Download failed.\"\n",
    ")\n",
    "\n",
    "\n",
    "print(result_msg)"
   ]
  },
  {
   "cell_type": "markdown",
   "id": "a7f77274",
   "metadata": {},
   "source": [
    "## Download Osimertinib Structure"
   ]
  },
  {
   "cell_type": "code",
   "execution_count": 10,
   "id": "d0c57285",
   "metadata": {},
   "outputs": [
    {
     "name": "stderr",
     "output_type": "stream",
     "text": [
      "--2025-05-04 19:13:50--  https://pubchem.ncbi.nlm.nih.gov/rest/pug/compound/CID/71496458/SDF\n",
      "Resolving pubchem.ncbi.nlm.nih.gov (pubchem.ncbi.nlm.nih.gov)... 130.14.29.110\n",
      "Connecting to pubchem.ncbi.nlm.nih.gov (pubchem.ncbi.nlm.nih.gov)|130.14.29.110|:443... connected.\n",
      "HTTP request sent, awaiting response... "
     ]
    },
    {
     "name": "stdout",
     "output_type": "stream",
     "text": [
      "✅ Osimertinib SDF downloaded successfully.\n"
     ]
    },
    {
     "name": "stderr",
     "output_type": "stream",
     "text": [
      "200 OK\n",
      "Length: unspecified [chemical/x-mdl-sdfile]\n",
      "Saving to: ‘data/input/osimertinib.sdf’\n",
      "\n",
      "     0K .........                                              79.2M=0s\n",
      "\n",
      "2025-05-04 19:13:50 (79.2 MB/s) - ‘data/input/osimertinib.sdf’ saved [9388]\n",
      "\n"
     ]
    }
   ],
   "source": [
    "import os\n",
    "\n",
    "# Ensure the directory exists\n",
    "os.makedirs(\"data/input\", exist_ok=True)\n",
    "\n",
    "# Download Osimertinib SDF file from PubChem\n",
    "sdf_url = \"https://pubchem.ncbi.nlm.nih.gov/rest/pug/compound/CID/71496458/SDF\"\n",
    "output_path = \"data/input/osimertinib.sdf\"\n",
    "\n",
    "# Use wget to download the SDF file\n",
    "exit_code = os.system(f\"wget -O {output_path} {sdf_url}\")\n",
    "\n",
    "# Check if download was successful\n",
    "result_msg = (\n",
    "    \"✅ Osimertinib SDF downloaded successfully.\" if exit_code == 0 else \"❌ Download failed.\"\n",
    ")\n",
    "\n",
    "print(result_msg)"
   ]
  },
  {
   "cell_type": "code",
   "execution_count": null,
   "id": "b3dbace3",
   "metadata": {},
   "outputs": [],
   "source": [
    "# Convert SDF to PDBQT using Open Babel if used by RosettDock\n",
    "!obabel osimertinib.sdf -O osimertinib.mol2"
   ]
  },
  {
   "cell_type": "markdown",
   "id": "764bc7cb",
   "metadata": {},
   "source": [
    "## 🧬 Step 2: Prepare the Mutated FASTA Sequence"
   ]
  },
  {
   "cell_type": "code",
   "execution_count": 13,
   "id": "f127c364",
   "metadata": {},
   "outputs": [
    {
     "name": "stdout",
     "output_type": "stream",
     "text": [
      "✅ Mutated FASTA created: EGFR_L858R_T790M\n"
     ]
    },
    {
     "name": "stderr",
     "output_type": "stream",
     "text": [
      "/Users/ahb/Documents/Incorp Algentics/projects/SRS_Proposal/.venv/lib/python3.10/site-packages/Bio/SeqRecord.py:354: BiopythonDeprecationWarning: Using a string as the sequence is deprecated and will raise a TypeError in future. It has been converted to a Seq object.\n",
      "  warnings.warn(\n"
     ]
    }
   ],
   "source": [
    "import json\n",
    "import os\n",
    "\n",
    "from Bio import SeqIO\n",
    "\n",
    "# Paths\n",
    "wildtype_fasta = \"data/input/egfr_wildtype.fasta\"\n",
    "mutations_json_path = \"work/mutations.json\"\n",
    "mutated_fasta_path = \"work/egfr_mutant.fasta\"\n",
    "\n",
    "# Load JSON\n",
    "with open(mutations_json_path) as f:\n",
    "    mutation_data = json.load(f)\n",
    "\n",
    "record = SeqIO.read(wildtype_fasta, \"fasta\")\n",
    "seq = list(str(record.seq))\n",
    "\n",
    "mutation_map = {\"L858R\": (857, \"R\"), \"T790M\": (789, \"M\")}\n",
    "\n",
    "for mutation in mutation_data[\"mutations\"]:\n",
    "    if mutation in mutation_map:\n",
    "        idx, new_aa = mutation_map[mutation]\n",
    "        seq[idx] = new_aa\n",
    "\n",
    "record.seq = \"\".join(seq)\n",
    "record.id = \"EGFR_\" + \"_\".join(mutation_data[\"mutations\"])\n",
    "record.description = \"EGFR with \" + \", \".join(mutation_data[\"mutations\"])\n",
    "SeqIO.write(record, mutated_fasta_path, \"fasta\")\n",
    "\n",
    "\n",
    "print(\"✅ Mutated FASTA created:\", record.id)"
   ]
  },
  {
   "cell_type": "markdown",
   "id": "81031959",
   "metadata": {},
   "source": [
    "# Step 3: Generate a Structure for the Mutated Protein"
   ]
  },
  {
   "cell_type": "code",
   "execution_count": 17,
   "id": "3a77edec",
   "metadata": {},
   "outputs": [
    {
     "name": "stdout",
     "output_type": "stream",
     "text": [
      "Mutated sequence: MRPSGTAGAALLALLAALCPASRALEEKKVCQGTSNKLTQLGTFEDHFLSLQRMFNNCEVVLGNLEITYVQRNYDLSFLKTIQEVAGYVLIALNTVERIPLENLQIIRGNMYYENSYALAVLSNYDANKTGLKELPMRNLQEILHGAVRFSNNPALCNVESIQWRDIVSSDFLSNMSMDFQNHLGSCQKCDPSCPNGSCWGAGEENCQKLTKIICAQQCSGRCRGKSPSDCCHNQCAAGCTGPRESDCLVCRKFRDEATCKDTCPPLMLYNPTTYQMDVNPEGKYSFGATCVKKCPRNYVVTDHGSCVRACGADSYEMEEDGVRKCKKCEGPCRKVCNGIGIGEFKDSLSINATNIKHFKNCTSISGDLHILPVAFRGDSFTHTPPLDPQELDILKTVKEITGFLLIQAWPENRTDLHAFENLEIIRGRTKQHGQFSLAVVSLNITSLGLRSLKEISDGDVIISGNKNLCYANTINWKKLFGTSGQKTKIISNRGENSCKATGQVCHALCSPEGCWGPEPRDCVSCRNVSRGRECVDKCNLLEGEPREFVENSECIQCHPECLPQAMNITCTGRGPDNCIQCAHYIDGPHCVKTCPAGVMGENNTLVWKYADAGHVCHLCHPNCTYGCTGPGLEGCPTNGPKIPSIATGMVGALLLLLVVALGIGLFMRRRHIVRKRTLRRLLQERELVEPLTPSGEAPNQALLRILKETEFKKIKVLGSGAFGTVYKGLWIPEGEKVKIPVAIKELREATSPKANKEILDEAYVMASVDNPHVCRLLGICLTSTVQLIMQLMPFGCLLDYVREHKDNIGSQYLLNWCVQIAKGMNYLEDRRLVHRDLAARNVLVKTPQHVKITDFGRAKLLGAEEKEYHAEGGKVPIKWMALESILHRIYTHQSDVWSYGVTVWELMTFGSKPYDGIPASEISSILEKGERLPQPPICTIDVYMIMVKCWMIDADSRPKFRELIIEFSKMARDPQRYLVIQGDERMHLPSPTDSNFYRALMDEEDMDDVVDADEYLIPQQGFFSSPSTSRTPLLSSLSATSNNSTVACIDRNGLQSCPIKEDSFLQRYSSDPTGALTEDSIDDTFLPVPEYINQSVPKRPAGSVQNPVYHNQPLNPAPSRDPHYQDPHSTAVGNPEYLNTVQPTCVNSTFDSPAHWAQKGSHQISLDNPDYQQDFFPKEAKPNGIFKGSTAENAEYLRVAPQSSEFIGA\n",
      "EGFR_L858R_T790M\n"
     ]
    }
   ],
   "source": [
    "# Read mutated FASTA sequence from file\n",
    "from Bio import SeqIO\n",
    "from scripts.submit_alphafold3_job import submit_alphafold3_job\n",
    "\n",
    "record = SeqIO.read(\"work/egfr_mutant.fasta\", \"fasta\")\n",
    "mutated_seq = str(record.seq)\n",
    "\n",
    "print(\"Mutated sequence:\", mutated_seq)\n",
    "print(record.id)"
   ]
  },
  {
   "cell_type": "code",
   "execution_count": 18,
   "id": "ec5ff932",
   "metadata": {},
   "outputs": [
    {
     "name": "stdout",
     "output_type": "stream",
     "text": [
      "✅ AlphaFold3 job submitted successfully.\n"
     ]
    },
    {
     "ename": "AttributeError",
     "evalue": "'str' object has no attribute 'get'",
     "output_type": "error",
     "traceback": [
      "\u001b[0;31m---------------------------------------------------------------------------\u001b[0m",
      "\u001b[0;31mAttributeError\u001b[0m                            Traceback (most recent call last)",
      "Cell \u001b[0;32mIn[18], line 2\u001b[0m\n\u001b[1;32m      1\u001b[0m \u001b[38;5;66;03m# Submit AlphaFold3 job using sequence from file\u001b[39;00m\n\u001b[0;32m----> 2\u001b[0m job_info \u001b[38;5;241m=\u001b[39m \u001b[43msubmit_alphafold3_job\u001b[49m\u001b[43m(\u001b[49m\n\u001b[1;32m      3\u001b[0m \u001b[43m    \u001b[49m\u001b[43msequence_aa\u001b[49m\u001b[38;5;241;43m=\u001b[39;49m\u001b[43m{\u001b[49m\u001b[38;5;124;43m\"\u001b[39;49m\u001b[38;5;124;43mport1\u001b[39;49m\u001b[38;5;124;43m\"\u001b[39;49m\u001b[43m:\u001b[49m\u001b[43m \u001b[49m\u001b[43mmutated_seq\u001b[49m\u001b[43m}\u001b[49m\n\u001b[1;32m      4\u001b[0m \u001b[43m    \u001b[49m\u001b[38;5;66;43;03m# ,ligand_file=\"data/input/osimertinib.sdf\"  # Optional: can be None\u001b[39;49;00m\n\u001b[1;32m      5\u001b[0m \u001b[43m    \u001b[49m\u001b[38;5;66;43;03m# ,job_note=\"AlphaFold3 prediction for EGFR mutant with Osimertinib\"\u001b[39;49;00m\n\u001b[1;32m      6\u001b[0m \u001b[43m)\u001b[49m\n",
      "File \u001b[0;32m~/Documents/Incorp Algentics/projects/SRS_Proposal/scripts/submit_alphafold3_job.py:58\u001b[0m, in \u001b[0;36msubmit_alphafold3_job\u001b[0;34m(sequence_aa, ligand_file, job_note, model_version, msa_mode, num_recycles, sampling_steps, diffusion_samples, step_scale)\u001b[0m\n\u001b[1;32m     56\u001b[0m     job_info \u001b[38;5;241m=\u001b[39m response\u001b[38;5;241m.\u001b[39mjson()\n\u001b[1;32m     57\u001b[0m     \u001b[38;5;28mprint\u001b[39m(\u001b[38;5;124m\"\u001b[39m\u001b[38;5;124m✅ AlphaFold3 job submitted successfully.\u001b[39m\u001b[38;5;124m\"\u001b[39m)\n\u001b[0;32m---> 58\u001b[0m     \u001b[38;5;28mprint\u001b[39m(\u001b[38;5;124m\"\u001b[39m\u001b[38;5;124mJob ID:\u001b[39m\u001b[38;5;124m\"\u001b[39m, \u001b[43mjob_info\u001b[49m\u001b[38;5;241;43m.\u001b[39;49m\u001b[43mget\u001b[49m(\u001b[38;5;124m\"\u001b[39m\u001b[38;5;124mjob_id\u001b[39m\u001b[38;5;124m\"\u001b[39m, \u001b[38;5;124m\"\u001b[39m\u001b[38;5;124mUnknown\u001b[39m\u001b[38;5;124m\"\u001b[39m))\n\u001b[1;32m     59\u001b[0m     \u001b[38;5;28;01mreturn\u001b[39;00m job_info\n\u001b[1;32m     60\u001b[0m \u001b[38;5;28;01melse\u001b[39;00m:\n",
      "\u001b[0;31mAttributeError\u001b[0m: 'str' object has no attribute 'get'"
     ]
    }
   ],
   "source": [
    "# Submit AlphaFold3 job using sequence from file\n",
    "job_info = submit_alphafold3_job(\n",
    "    sequence_aa={\"port1\": mutated_seq}\n",
    "    # ,ligand_file=\"data/input/osimertinib.sdf\"  # Optional: can be None\n",
    "    # ,job_note=\"AlphaFold3 prediction for EGFR mutant with Osimertinib\"\n",
    ")"
   ]
  },
  {
   "cell_type": "code",
   "execution_count": null,
   "id": "7c8272a4",
   "metadata": {},
   "outputs": [],
   "source": [
    "# python scripts/run_alphafold.py \\\n",
    "#   --fasta_paths=work/egfr_L858R_T790M.fasta \\\n",
    "#   --output_dir=work/ \\\n",
    "#   --model_preset=monomer"
   ]
  },
  {
   "cell_type": "markdown",
   "id": "85f249c9",
   "metadata": {},
   "source": [
    "# Step 4: Generate the Docking Score Between the Drug and the Mutated Protein Structure"
   ]
  },
  {
   "cell_type": "code",
   "execution_count": null,
   "id": "39766ac9",
   "metadata": {},
   "outputs": [],
   "source": [
    "from scripts.submit_gnina_job import submit_gnina_job\n",
    "\n",
    "# Option 1: AlphaFold3 already includes ligand\n",
    "submit_gnina_job(\n",
    "    receptor_file=\"work/af3_complex.pdb\",\n",
    "    job_note=\"GNINA: rescore AlphaFold3-predicted EGFR-ligand complex\",\n",
    ")"
   ]
  },
  {
   "cell_type": "code",
   "execution_count": null,
   "id": "b8d5672e",
   "metadata": {},
   "outputs": [],
   "source": [
    "# Option 2: Use GNINA to dock ligand separately\n",
    "submit_gnina_job(\n",
    "    receptor_file=\"work/mutant_structure.pdb\",\n",
    "    ligand_file=\"data/input/osimertinib.sdf\",\n",
    "    job_note=\"GNINA: dock Osimertinib into EGFR mutant\",\n",
    ")"
   ]
  },
  {
   "cell_type": "code",
   "execution_count": null,
   "id": "4a6455b3",
   "metadata": {},
   "outputs": [],
   "source": [
    "# !python scripts/rosetta_docking.py \\\n",
    "#   --structure work/mutant_structure.pdb \\\n",
    "#   --mutations work/mutations.json \\\n",
    "#   --ligand input/osimertinib.mol2 \\\n",
    "#   --out work/docking_scores.json"
   ]
  },
  {
   "cell_type": "markdown",
   "id": "67a69201",
   "metadata": {},
   "source": [
    "# Step 5: Scoring Binding using ProteinMPNN\n",
    "This gives you a comprehensive structural resistance prediction"
   ]
  },
  {
   "cell_type": "code",
   "execution_count": null,
   "id": "12e814e8",
   "metadata": {},
   "outputs": [],
   "source": [
    "from scripts.submit_proteinmpnn_job import submit_proteinmpnn_job\n",
    "\n",
    "job_info = submit_proteinmpnn_job(\n",
    "    structure_file=\"work/mutant_structure.pdb\",\n",
    "    job_note=\"Scoring EGFR_L858R_T790M fold stability with ProteinMPNN\",\n",
    ")"
   ]
  },
  {
   "cell_type": "code",
   "execution_count": null,
   "id": "2c11b14b",
   "metadata": {},
   "outputs": [],
   "source": [
    "# python scripts/run_proteinmpnn_scoring.py \\\n",
    "#   --structure work/mutant_structure.pdb \\\n",
    "#   --out work/stability_score.json"
   ]
  },
  {
   "cell_type": "markdown",
   "id": "6a94d06e",
   "metadata": {},
   "source": [
    "# Step 6: Report Generation"
   ]
  },
  {
   "cell_type": "code",
   "execution_count": null,
   "id": "c95eca0e",
   "metadata": {},
   "outputs": [],
   "source": [
    "# python scripts/generate_report.py \\\n",
    "#   --docking work/docking_scores.json \\\n",
    "#   --stability work/stability_score.json \\\n",
    "#   --out reports/final_report.pdf"
   ]
  },
  {
   "cell_type": "markdown",
   "id": "636ff676",
   "metadata": {},
   "source": [
    "## 🧾 Step 8: Validation Using Real Outcome\n",
    "From the patient profile (P-0076655):\n",
    "- Given Drug: Osimertinib\n",
    "- Clinical Outcome: Documented PFS > 6 months\n",
    "\n",
    "Compare your ΔΔG predictions with this real outcome to validate your model.\n",
    "\n",
    "Also validate against:\n",
    "- Literature-based ΔΔG thresholds (e.g., >3 kcal/mol = likely resistance)\n",
    "- Known clinical response patterns for EGFR T790M patients"
   ]
  },
  {
   "cell_type": "code",
   "execution_count": null,
   "id": "433270ed",
   "metadata": {},
   "outputs": [],
   "source": [
    "snakemake -j 4 --rerun-incomplete"
   ]
  }
 ],
 "metadata": {
  "kernelspec": {
   "display_name": ".venv (3.10.13)",
   "language": "python",
   "name": "python3"
  },
  "language_info": {
   "codemirror_mode": {
    "name": "ipython",
    "version": 3
   },
   "file_extension": ".py",
   "mimetype": "text/x-python",
   "name": "python",
   "nbconvert_exporter": "python",
   "pygments_lexer": "ipython3",
   "version": "3.10.13"
  }
 },
 "nbformat": 4,
 "nbformat_minor": 5
}
